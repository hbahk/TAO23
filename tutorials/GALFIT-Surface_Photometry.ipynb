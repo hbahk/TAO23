{
 "cells": [
  {
   "attachments": {},
   "cell_type": "markdown",
   "metadata": {},
   "source": [
    "# Download SDSS Mosaic Image from SDSS Science Archive Server (SAS)\n",
    "\n",
    "* Web link: [Imaging Mosaics](https://dr12.sdss.org/mosaics)\n",
    "\n",
    "![](./data/proj4/1.png)\n",
    "\n",
    "Fill out the RA and Dec information, and resulting angluar size of the image.\n",
    "Then click the \"Submit\" button.\n",
    "\n",
    "![](./data/proj4/2.png)\n",
    "\n",
    "Click \"Click here to download ~\" to get the shell file.\n",
    "\n",
    "Before you create the mosaic image you have to install `SWarp` package.\n",
    "\n",
    "If you use Anaconda environment,\n",
    "```shell\n",
    "conda install -c conda-forge astromatic-swarp\n",
    "```\n",
    "\n",
    "Otherwise you need to install by following [the official website](https://www.astromatic.net/software/swarp/) which I didn't test.\n",
    "\n",
    "\n"
   ]
  },
  {
   "cell_type": "code",
   "execution_count": null,
   "metadata": {},
   "outputs": [],
   "source": []
  }
 ],
 "metadata": {
  "language_info": {
   "name": "python"
  },
  "orig_nbformat": 4
 },
 "nbformat": 4,
 "nbformat_minor": 2
}
