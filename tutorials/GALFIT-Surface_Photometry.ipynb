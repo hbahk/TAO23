{
 "cells": [
  {
   "attachments": {},
   "cell_type": "markdown",
   "metadata": {},
   "source": [
    "# Download SDSS Mosaic Image from SDSS Science Archive Server (SAS)\n",
    "\n",
    "* Web link: [Imaging Mosaics](https://dr12.sdss.org/mosaics)\n",
    "\n",
    "![](./data/proj4/1.png)\n",
    "\n",
    "Fill out the RA and Dec information, and resulting angluar size of the image.\n",
    "Then click the \"Submit\" button.\n",
    "\n",
    "![](./data/proj4/2.png)\n",
    "\n",
    "Click \"Click here to download ~\" to get the shell file.\n",
    "\n",
    "Before you create the mosaic image you have to install `SWarp` package.\n",
    "\n",
    "If you use Anaconda environment (check your current environment before the installation),\n",
    "```shell\n",
    "$ conda install -c conda-forge astromatic-swarp\n",
    "```\n",
    "\n",
    "Otherwise you need to install by following [the official website](https://www.astromatic.net/software/swarp/) which I didn't test.\n",
    "\n",
    "***\n",
    "\n",
    "# M51\n",
    "\n",
    "In this tutorial, we conduct surface photometry of M51, whose image is downloaded\n",
    "from the archival data of SDSS, to reproduce Figure 21. (see below figure) of [Peng et al. (2010)](https://ui.adsabs.harvard.edu/abs/2010AJ....139.2097P/abstract).\n",
    "\n",
    "![](./data/proj4/3.png)\n",
    "\n",
    "Let's make mosaic of M51 field, with the image size of $18'$.\n",
    "The r-band images of single fields for the mosaics are queried from the above\n",
    "process, with the RA=202.3984, Dec=47.2252, Image Size=0.5.\n",
    "\n",
    "We make the mosaic image executing the shell file.\n",
    "\n",
    "```shell\n",
    "$ cd <Move To Path Where The Shell File Exists>\n",
    "$ chmod 744 <Your Shell File>\n",
    "$ ./<Your Shell File>\n",
    "```\n",
    "\n",
    "Here, for example,\n",
    "```shell\n",
    "$ cd data/proj4\n",
    "$ chmod 744 J132947.00+471338.0.sh\n",
    "$ ./J132947.00+471338.0.sh\n",
    "```\n",
    "\n",
    "Then you will get `J132947.00+471338.0-r.fits` and `J132947.00+471338.0-r.weight.fits`,\n",
    "the r-band image and its weight image.\n"
   ]
  },
  {
   "cell_type": "code",
   "execution_count": null,
   "metadata": {},
   "outputs": [],
   "source": []
  }
 ],
 "metadata": {
  "kernelspec": {
   "display_name": "tao23",
   "language": "python",
   "name": "python3"
  },
  "language_info": {
   "codemirror_mode": {
    "name": "ipython",
    "version": 3
   },
   "file_extension": ".py",
   "mimetype": "text/x-python",
   "name": "python",
   "nbconvert_exporter": "python",
   "pygments_lexer": "ipython3",
   "version": "3.10.9"
  },
  "orig_nbformat": 4
 },
 "nbformat": 4,
 "nbformat_minor": 2
}
